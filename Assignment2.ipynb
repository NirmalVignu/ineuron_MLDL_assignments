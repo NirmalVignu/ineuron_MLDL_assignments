{
  "nbformat": 4,
  "nbformat_minor": 0,
  "metadata": {
    "colab": {
      "name": "Assignment2",
      "provenance": [],
      "authorship_tag": "ABX9TyPzINE7AncKJ3lk6Q12YAxy",
      "include_colab_link": true
    },
    "kernelspec": {
      "name": "python3",
      "display_name": "Python 3"
    },
    "language_info": {
      "name": "python"
    }
  },
  "cells": [
    {
      "cell_type": "markdown",
      "metadata": {
        "id": "view-in-github",
        "colab_type": "text"
      },
      "source": [
        "<a href=\"https://colab.research.google.com/github/NirmalVignu/ineuron_MLDL_assignments/blob/main/Assignment2.ipynb\" target=\"_parent\"><img src=\"https://colab.research.google.com/assets/colab-badge.svg\" alt=\"Open In Colab\"/></a>"
      ]
    },
    {
      "cell_type": "markdown",
      "metadata": {
        "id": "2mSL4-_kZZHh"
      },
      "source": [
        "**1. Create the below pattern using nested for loop in Python.**\n",
        "\n"
      ]
    },
    {
      "cell_type": "code",
      "metadata": {
        "colab": {
          "base_uri": "https://localhost:8080/"
        },
        "id": "vUcI4EBXZKhs",
        "outputId": "3ffe1adc-da05-41b5-8fa8-801f70b40e54"
      },
      "source": [
        "n=int(input())\n",
        "for i in range(1,n+1):\n",
        "  print(\"* \"*i)\n",
        "for i in range(n-1,0,-1):\n",
        "  print(\"* \"*i)"
      ],
      "execution_count": null,
      "outputs": [
        {
          "output_type": "stream",
          "name": "stdout",
          "text": [
            "5\n",
            "* \n",
            "* * \n",
            "* * * \n",
            "* * * * \n",
            "* * * * * \n",
            "* * * * \n",
            "* * * \n",
            "* * \n",
            "* \n"
          ]
        }
      ]
    },
    {
      "cell_type": "markdown",
      "metadata": {
        "id": "7L7TwJnHaKFr"
      },
      "source": [
        "**2. Write a Python program to reverse a word after accepting the input from the user.** \n",
        "\n",
        "Sample Output: \n",
        "\n",
        "Input word: ineuron \n",
        "\n",
        "Output: norueni\n"
      ]
    },
    {
      "cell_type": "code",
      "metadata": {
        "colab": {
          "base_uri": "https://localhost:8080/"
        },
        "id": "X4wMTzGnZyz6",
        "outputId": "1284a716-c0ee-4140-d344-55474ef17a23"
      },
      "source": [
        "s=input(\"enter any word:\")\n",
        "print(s[::-1])"
      ],
      "execution_count": null,
      "outputs": [
        {
          "output_type": "stream",
          "name": "stdout",
          "text": [
            "enter any word:vignu\n",
            "ungiv\n"
          ]
        }
      ]
    },
    {
      "cell_type": "code",
      "metadata": {
        "id": "YIdGJePbae5L"
      },
      "source": [
        ""
      ],
      "execution_count": null,
      "outputs": []
    }
  ]
}