{
  "nbformat": 4,
  "nbformat_minor": 0,
  "metadata": {
    "colab": {
      "name": "Assignment4.ipynb",
      "provenance": [],
      "authorship_tag": "ABX9TyMT0rFD6wqIsruL2No5bJfV",
      "include_colab_link": true
    },
    "kernelspec": {
      "name": "python3",
      "display_name": "Python 3"
    },
    "language_info": {
      "name": "python"
    }
  },
  "cells": [
    {
      "cell_type": "markdown",
      "metadata": {
        "id": "view-in-github",
        "colab_type": "text"
      },
      "source": [
        "<a href=\"https://colab.research.google.com/github/NirmalVignu/ineuron_MLDL_assignments/blob/main/Assignment4.ipynb\" target=\"_parent\"><img src=\"https://colab.research.google.com/assets/colab-badge.svg\" alt=\"Open In Colab\"/></a>"
      ]
    },
    {
      "cell_type": "markdown",
      "metadata": {
        "id": "Z5A1795qia-J"
      },
      "source": [
        "**1.1 Write a Python Program(with class concepts) to find the area of the triangle using the below\n",
        "formula.**\n",
        "\n",
        "**area = (s*(s-a)*(s-b)*(s-c)) * * 0.5**\n",
        "\n",
        "**Function to take the length of the sides of triangle from user should be defined in the parent\n",
        "class and function to calculate the area should be defined in subclass.**"
      ]
    },
    {
      "cell_type": "code",
      "metadata": {
        "id": "DTdl8HfXiPym"
      },
      "source": [
        "class Sides:\n",
        "  def __init__(self):\n",
        "    self.a=float(input(\"enter side a:\"))\n",
        "    self.b=float(input(\"enter side b:\"))\n",
        "    self.c=float(input(\"enter side c:\"))\n",
        "class Area(Sides):\n",
        "  def area(self):\n",
        "    s=(self.a+self.b+self.c)/2\n",
        "    area=(s*(s-self.a)*(s-self.b)*(s-self.c))**0.5\n",
        "    print(\"Area of Triangle= \",area)"
      ],
      "execution_count": 11,
      "outputs": []
    },
    {
      "cell_type": "code",
      "metadata": {
        "colab": {
          "base_uri": "https://localhost:8080/"
        },
        "id": "Vpfxg6A8jJrX",
        "outputId": "8e1061d2-67eb-4896-9d36-bcbcbcebc8f1"
      },
      "source": [
        "a=Area()\n",
        "a.area()"
      ],
      "execution_count": 12,
      "outputs": [
        {
          "output_type": "stream",
          "name": "stdout",
          "text": [
            "enter side a:12\n",
            "enter side b:13\n",
            "enter side c:14\n",
            "Area of Triangle=  72.30793524918272\n"
          ]
        }
      ]
    },
    {
      "cell_type": "markdown",
      "metadata": {
        "id": "UqqaXruokIHU"
      },
      "source": [
        "**1.2 Write a function filter_long_words() that takes a list of words and an integer n and returns\n",
        "the list of words that are longer than n.**"
      ]
    },
    {
      "cell_type": "code",
      "metadata": {
        "id": "QXvIlPJdjomb"
      },
      "source": [
        "def filter_long_words(l,n):\n",
        "  l1=[]\n",
        "  for i in l:\n",
        "    if(len(i)>n):\n",
        "      l1.append(i)\n",
        "  return l1\n"
      ],
      "execution_count": 15,
      "outputs": []
    },
    {
      "cell_type": "code",
      "metadata": {
        "colab": {
          "base_uri": "https://localhost:8080/"
        },
        "id": "X7ZYGYcVkScm",
        "outputId": "02b9c9e5-9378-457a-aa45-22b5ca233c49"
      },
      "source": [
        "lst = [\"hello\", \"world\", \"name\", \"words\", \"computer science\", \"data science\"]\n",
        "print(filter_long_words(lst,5))"
      ],
      "execution_count": 16,
      "outputs": [
        {
          "output_type": "stream",
          "name": "stdout",
          "text": [
            "['computer science', 'data science']\n"
          ]
        }
      ]
    },
    {
      "cell_type": "markdown",
      "metadata": {
        "id": "S0q-Seokky3T"
      },
      "source": [
        "**2.1 Write a Python program using function concept that maps list of words into a list of integers\n",
        "representing the lengths of the corresponding words.**\n",
        "\n",
        "**Hint: If a list [ ab,cde,erty] is passed on to the python function output should come as [2,3,4]\n",
        "Here 2,3 and 4 are the lengths of the words in the list.**"
      ]
    },
    {
      "cell_type": "code",
      "metadata": {
        "colab": {
          "base_uri": "https://localhost:8080/"
        },
        "id": "MQMRfYCYkpX2",
        "outputId": "0f2654fb-6ff7-442e-9e52-2e88e3ab46bb"
      },
      "source": [
        "l=[\"ab\",\"cde\",\"erty\"]\n",
        "result=map(len,l)\n",
        "print(list(result))"
      ],
      "execution_count": 17,
      "outputs": [
        {
          "output_type": "stream",
          "name": "stdout",
          "text": [
            "[2, 3, 4]\n"
          ]
        }
      ]
    },
    {
      "cell_type": "markdown",
      "metadata": {
        "id": "768YU2WZlVG4"
      },
      "source": [
        "**2.2 Write a Python function which takes a character (i.e. a string of length 1) and returns True if\n",
        "it is a vowel, False otherwise.**"
      ]
    },
    {
      "cell_type": "code",
      "metadata": {
        "id": "AZru9ucWlKy5"
      },
      "source": [
        "def vowel(c):\n",
        "  l=\"aeiou\"\n",
        "  if c in l or c in l.upper():\n",
        "    return True\n",
        "  else:\n",
        "    return False\n"
      ],
      "execution_count": 25,
      "outputs": []
    },
    {
      "cell_type": "code",
      "metadata": {
        "colab": {
          "base_uri": "https://localhost:8080/"
        },
        "id": "_xYndxvLlysC",
        "outputId": "8994100b-82bb-4b35-c6a8-f75f1c56a5b9"
      },
      "source": [
        "c=input(\"Enter a character : \")\n",
        "print(vowel(c))"
      ],
      "execution_count": 29,
      "outputs": [
        {
          "output_type": "stream",
          "name": "stdout",
          "text": [
            "Enter a character : A\n",
            "True\n"
          ]
        }
      ]
    },
    {
      "cell_type": "code",
      "metadata": {
        "colab": {
          "base_uri": "https://localhost:8080/"
        },
        "id": "UespN9f5l7AO",
        "outputId": "033fc291-33f2-4e81-9a3e-6a48a3604b53"
      },
      "source": [
        "c=input(\"Enter a character : \")\n",
        "print(vowel(c))"
      ],
      "execution_count": 30,
      "outputs": [
        {
          "output_type": "stream",
          "name": "stdout",
          "text": [
            "Enter a character : j\n",
            "False\n"
          ]
        }
      ]
    },
    {
      "cell_type": "code",
      "metadata": {
        "id": "wyTvmeJAmRXL"
      },
      "source": [
        ""
      ],
      "execution_count": 30,
      "outputs": []
    }
  ]
}