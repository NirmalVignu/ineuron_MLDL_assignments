{
  "nbformat": 4,
  "nbformat_minor": 0,
  "metadata": {
    "colab": {
      "name": "Assignment 3.ipynb",
      "provenance": [],
      "authorship_tag": "ABX9TyOObpJu6IQq6TPg7GeQwzNa",
      "include_colab_link": true
    },
    "kernelspec": {
      "name": "python3",
      "display_name": "Python 3"
    },
    "language_info": {
      "name": "python"
    }
  },
  "cells": [
    {
      "cell_type": "markdown",
      "metadata": {
        "id": "view-in-github",
        "colab_type": "text"
      },
      "source": [
        "<a href=\"https://colab.research.google.com/github/NirmalVignu/ineuron_MLDL_assignments/blob/main/Assignment_3.ipynb\" target=\"_parent\"><img src=\"https://colab.research.google.com/assets/colab-badge.svg\" alt=\"Open In Colab\"/></a>"
      ]
    },
    {
      "cell_type": "markdown",
      "metadata": {
        "id": "n9X7F48NcxgL"
      },
      "source": [
        "**1.1 Write a Python Program to implement your own myreduce() function which works exactly  like Python's built-in function reduce()**"
      ]
    },
    {
      "cell_type": "code",
      "metadata": {
        "id": "L-tUfbtpa6QN"
      },
      "source": [
        "def myreduce(fun,iter):\n",
        "  result=iter[0]\n",
        "  for i in iter[1:]:\n",
        "    result=fun(result,i)\n",
        "  return result\n",
        "def fun(a,b):\n",
        "  return a*b"
      ],
      "execution_count": 3,
      "outputs": []
    },
    {
      "cell_type": "code",
      "metadata": {
        "colab": {
          "base_uri": "https://localhost:8080/"
        },
        "id": "UVM8QwYxdFEV",
        "outputId": "d0c884f5-6967-47c9-b768-2ae89ebb1094"
      },
      "source": [
        "l=[1,2,3,4,5]\n",
        "print(f\"My Reduce Output is: {myreduce(fun, l)}\")"
      ],
      "execution_count": 4,
      "outputs": [
        {
          "output_type": "stream",
          "name": "stdout",
          "text": [
            "My Reduce Output is: 120\n"
          ]
        }
      ]
    },
    {
      "cell_type": "markdown",
      "metadata": {
        "id": "k180SfGzddan"
      },
      "source": [
        "**1.2 Write a Python program to implement your own myfilter() function which works exactly like Python's built-in function filter()**"
      ]
    },
    {
      "cell_type": "code",
      "metadata": {
        "id": "0qmn8_J8daDo"
      },
      "source": [
        "def myfilter(fun, values):\n",
        "    result = []\n",
        "    for i in values:\n",
        "        if fun(i):\n",
        "            result.append(i)\n",
        "    return result\n",
        "def fun(x):\n",
        "    if x % 5 == 0:\n",
        "        return True\n",
        "    else:\n",
        "        return False"
      ],
      "execution_count": 5,
      "outputs": []
    },
    {
      "cell_type": "code",
      "metadata": {
        "colab": {
          "base_uri": "https://localhost:8080/"
        },
        "id": "s1VJ23Zqd9Wf",
        "outputId": "ddf44c68-3f01-4ac0-ded3-5f18d50c0c17"
      },
      "source": [
        "lst = [12, 20,35, 63, 35, 53]\n",
        "print(f\"My Filter Output is: {myfilter(fun, lst)}\")"
      ],
      "execution_count": 7,
      "outputs": [
        {
          "output_type": "stream",
          "name": "stdout",
          "text": [
            "My Filter Output is: [20, 35, 35]\n"
          ]
        }
      ]
    },
    {
      "cell_type": "markdown",
      "metadata": {
        "id": "h8ZfRh4weEa_"
      },
      "source": [
        "**2. Implement List comprehensions to produce the following lists.\n",
        "Write List comprehensions to produce the following Lists**\n",
        "\n",
        "**['x', 'xx', 'xxx', 'xxxx', 'y', 'yy', 'yyy', 'yyyy', 'z', 'zz', 'zzz', 'zzzz']**\n"
      ]
    },
    {
      "cell_type": "code",
      "metadata": {
        "colab": {
          "base_uri": "https://localhost:8080/"
        },
        "id": "Z5NNzd9Ud-Ex",
        "outputId": "93855669-e058-4df1-e9f0-ee03b3f803f1"
      },
      "source": [
        "l=['x','y','z']\n",
        "l1=[i*j for i in l for j in range(1,5)]\n",
        "print(l1)\n"
      ],
      "execution_count": 9,
      "outputs": [
        {
          "output_type": "stream",
          "name": "stdout",
          "text": [
            "['x', 'xx', 'xxx', 'xxxx', 'y', 'yy', 'yyy', 'yyyy', 'z', 'zz', 'zzz', 'zzzz']\n"
          ]
        }
      ]
    },
    {
      "cell_type": "markdown",
      "metadata": {
        "id": "Wege3pXWe46n"
      },
      "source": [
        "**2.['x', 'y', 'z', 'xx', 'yy', 'zz', 'xxx', 'yyy', 'zzz', 'xxxx', 'yyyy', 'zzzz']**"
      ]
    },
    {
      "cell_type": "code",
      "metadata": {
        "colab": {
          "base_uri": "https://localhost:8080/"
        },
        "id": "S-FOxXcCeksr",
        "outputId": "ef5d53b1-7388-4912-dad3-5571b685619b"
      },
      "source": [
        "l=['x','y','z']\n",
        "l2=[i*j for i in range(1,5) for j in l]\n",
        "print(l2)"
      ],
      "execution_count": 14,
      "outputs": [
        {
          "output_type": "stream",
          "name": "stdout",
          "text": [
            "['x', 'y', 'z', 'xx', 'yy', 'zz', 'xxx', 'yyy', 'zzz', 'xxxx', 'yyyy', 'zzzz']\n"
          ]
        }
      ]
    },
    {
      "cell_type": "markdown",
      "metadata": {
        "id": "OFrzf2C3ftkt"
      },
      "source": [
        "**3.  [[2], [3], [4], [3], [4], [5], [4], [5], [6]]**"
      ]
    },
    {
      "cell_type": "code",
      "metadata": {
        "colab": {
          "base_uri": "https://localhost:8080/"
        },
        "id": "PAJ3ibP3fcEE",
        "outputId": "765f8656-5172-410d-e4c9-9dc099f4c94a"
      },
      "source": [
        "l3 = [[x + y] for y in range(3) for x in range(2, 5)]\n",
        "l3"
      ],
      "execution_count": 15,
      "outputs": [
        {
          "output_type": "execute_result",
          "data": {
            "text/plain": [
              "[[2], [3], [4], [3], [4], [5], [4], [5], [6]]"
            ]
          },
          "metadata": {},
          "execution_count": 15
        }
      ]
    },
    {
      "cell_type": "markdown",
      "metadata": {
        "id": "gAf9gC7dgPEk"
      },
      "source": [
        "**4. [[2, 3, 4, 5], [3, 4, 5, 6], [4, 5, 6, 7], [5, 6, 7, 8]]**"
      ]
    },
    {
      "cell_type": "code",
      "metadata": {
        "colab": {
          "base_uri": "https://localhost:8080/"
        },
        "id": "EYFF1g-0gKxM",
        "outputId": "60c931b3-42a8-46ad-a4b3-7378e8e38903"
      },
      "source": [
        "l4 = [[a+b for b in range(2, 6)] for a in range(4)]\n",
        "l4"
      ],
      "execution_count": 16,
      "outputs": [
        {
          "output_type": "execute_result",
          "data": {
            "text/plain": [
              "[[2, 3, 4, 5], [3, 4, 5, 6], [4, 5, 6, 7], [5, 6, 7, 8]]"
            ]
          },
          "metadata": {},
          "execution_count": 16
        }
      ]
    },
    {
      "cell_type": "markdown",
      "metadata": {
        "id": "ipVa5wm0grFv"
      },
      "source": [
        "**5. [(1, 1), (2, 1), (3, 1), (1, 2), (2, 2), (3, 2), (1, 3), (2, 3), (3, 3)]**"
      ]
    },
    {
      "cell_type": "code",
      "metadata": {
        "colab": {
          "base_uri": "https://localhost:8080/"
        },
        "id": "VwkNVOrpgVbO",
        "outputId": "98ee5233-707b-4cc0-b9f7-41a18cd3a176"
      },
      "source": [
        "l5=[(j,i) for i in range(1,4) for j in range(1,4)]\n",
        "l5"
      ],
      "execution_count": 19,
      "outputs": [
        {
          "output_type": "execute_result",
          "data": {
            "text/plain": [
              "[(1, 1), (2, 1), (3, 1), (1, 2), (2, 2), (3, 2), (1, 3), (2, 3), (3, 3)]"
            ]
          },
          "metadata": {},
          "execution_count": 19
        }
      ]
    }
  ]
}