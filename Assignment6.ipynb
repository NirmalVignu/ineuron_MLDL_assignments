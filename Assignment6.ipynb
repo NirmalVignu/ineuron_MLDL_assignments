{
  "nbformat": 4,
  "nbformat_minor": 0,
  "metadata": {
    "colab": {
      "name": "Assignment6.ipynb",
      "provenance": [],
      "authorship_tag": "ABX9TyPUwI4v4nThJI0dTqIuycuY",
      "include_colab_link": true
    },
    "kernelspec": {
      "name": "python3",
      "display_name": "Python 3"
    },
    "language_info": {
      "name": "python"
    }
  },
  "cells": [
    {
      "cell_type": "markdown",
      "metadata": {
        "id": "view-in-github",
        "colab_type": "text"
      },
      "source": [
        "<a href=\"https://colab.research.google.com/github/NirmalVignu/ineuron_MLDL_assignments/blob/main/Assignment6.ipynb\" target=\"_parent\"><img src=\"https://colab.research.google.com/assets/colab-badge.svg\" alt=\"Open In Colab\"/></a>"
      ]
    },
    {
      "cell_type": "markdown",
      "source": [
        "# Assignment 6"
      ],
      "metadata": {
        "id": "YYNpF-0d-eFj"
      }
    },
    {
      "cell_type": "markdown",
      "source": [
        "# **Problem Statement 1:**\n",
        "**Write a function so that the columns of the output matrix are powers of the input vector.**\n",
        "\n",
        "**The order of the powers is determined by the increasing boolean argument. Specifically, when increasing is False, the i-th output column is the input vector raised element-wise to the power of N - i - 1.**\n",
        "\n",
        "**HINT: Such a matrix with a geometric progression in each row is named for Alexandre-Theophile Vandermonde.**"
      ],
      "metadata": {
        "id": "dxZrSOPf-USM"
      }
    },
    {
      "cell_type": "code",
      "execution_count": 1,
      "metadata": {
        "id": "mj3LDgaV92t5"
      },
      "outputs": [],
      "source": [
        "import numpy as np"
      ]
    },
    {
      "cell_type": "code",
      "source": [
        "def alexTV(V,n,increasing=False):\n",
        "  l=[]\n",
        "  if increasing==True:\n",
        "    l=[x**j for x in V for j in range(n)]\n",
        "    mat=np.matrix(l).reshape(V.size,n)\n",
        "    \n",
        "  else:\n",
        "    l=[x**(n-j-1) for x in V for j in range(n)]\n",
        "    mat=np.matrix(l).reshape(V.size, n)\n",
        "  return mat\n",
        "    "
      ],
      "metadata": {
        "id": "kJIy1vzK-lQj"
      },
      "execution_count": 37,
      "outputs": []
    },
    {
      "cell_type": "code",
      "source": [
        "V=np.array([2,4,6,8,10])\n",
        "n=5"
      ],
      "metadata": {
        "id": "zedfhzloAh11"
      },
      "execution_count": 38,
      "outputs": []
    },
    {
      "cell_type": "code",
      "source": [
        "Matasce=alexTV(V,n,True)\n",
        "Matasce"
      ],
      "metadata": {
        "colab": {
          "base_uri": "https://localhost:8080/"
        },
        "id": "eAILJjJZ_j95",
        "outputId": "50888ed9-8c0c-4519-ce11-e1f6368a1f89"
      },
      "execution_count": 39,
      "outputs": [
        {
          "output_type": "execute_result",
          "data": {
            "text/plain": [
              "matrix([[    1,     2,     4,     8,    16],\n",
              "        [    1,     4,    16,    64,   256],\n",
              "        [    1,     6,    36,   216,  1296],\n",
              "        [    1,     8,    64,   512,  4096],\n",
              "        [    1,    10,   100,  1000, 10000]])"
            ]
          },
          "metadata": {},
          "execution_count": 39
        }
      ]
    },
    {
      "cell_type": "code",
      "source": [
        "Matdesc=alexTV(V,n,False)\n",
        "Matdesc"
      ],
      "metadata": {
        "colab": {
          "base_uri": "https://localhost:8080/"
        },
        "id": "kArW4VQe_pO9",
        "outputId": "41ba4f01-d61e-4256-c2f5-8c582c9bf3d8"
      },
      "execution_count": 40,
      "outputs": [
        {
          "output_type": "execute_result",
          "data": {
            "text/plain": [
              "matrix([[   16,     8,     4,     2,     1],\n",
              "        [  256,    64,    16,     4,     1],\n",
              "        [ 1296,   216,    36,     6,     1],\n",
              "        [ 4096,   512,    64,     8,     1],\n",
              "        [10000,  1000,   100,    10,     1]])"
            ]
          },
          "metadata": {},
          "execution_count": 40
        }
      ]
    },
    {
      "cell_type": "markdown",
      "source": [
        "# **Problem Statement 2:**\n",
        "\n",
        "Given a sequence of n values x1, x2, ..., xn and a window size k>0, the k-th moving average of  the given sequence is defined as follows: \n",
        "\n",
        "The moving average sequence has n-k+1 elements as shown below. \n",
        "\n",
        "The moving averages with k=4 of a ten-value sequence (n=10) is shown below\n",
        "\n",
        "i 1 2 3 4 5 6 7 8 9 10\n",
        "\n",
        "===== == == == == == == == == == == \n",
        "\n",
        "Input 10 20 30 40 50 60 70 80 90 100  \n",
        "\n",
        "y1 25 = (10+20+30+40)/4\n",
        "\n",
        "y2 35 = (20+30+40+50)/4 \n",
        "\n",
        "y3 45 = (30+40+50+60)/4 \n",
        "\n",
        "y4 55 = (40+50+60+70)/4 \n",
        "\n",
        "y5 65 = (50+60+70+80)/4 \n",
        "\n",
        "y6 75 = (60+70+80+90)/4 \n",
        "\n",
        "y7 85 = (70+80+90+100)/4 \n",
        "\n",
        "Thus, the moving average sequence has n-k+1=10-4+1=7 values.\n",
        "\n",
        "**Question:** Write a function to find moving average in an array over a window:  Test it over [3, 5, 7, 2, 8, 10, 11, 65, 72, 81, 99, 100, 150] and window of 3. \n"
      ],
      "metadata": {
        "id": "tsnlpgucB9mi"
      }
    },
    {
      "cell_type": "code",
      "source": [
        "def moving_avg(ar, x):\n",
        "  a = 1\n",
        "  output = np.convolve(ar, np.ones(x), 'valid') / x\n",
        "  for i in output:\n",
        "    print(\"y{0} = {1:.2f}\".format(a, i))\n",
        "    a += 1\n",
        "\n",
        "\n",
        "  \n"
      ],
      "metadata": {
        "id": "EElExSnuA_YY"
      },
      "execution_count": 55,
      "outputs": []
    },
    {
      "cell_type": "code",
      "source": [
        "ar=np.array([3, 5, 7, 2, 8, 10, 11, 65, 72, 81, 99, 100, 150])\n",
        "window=3"
      ],
      "metadata": {
        "id": "1DVjBX9TENMx"
      },
      "execution_count": 56,
      "outputs": []
    },
    {
      "cell_type": "code",
      "source": [
        "moving_avg(ar,window)"
      ],
      "metadata": {
        "colab": {
          "base_uri": "https://localhost:8080/"
        },
        "id": "u2IbwUDGDgZc",
        "outputId": "37f5db47-3d4e-4030-b25d-256014eb4167"
      },
      "execution_count": 57,
      "outputs": [
        {
          "output_type": "stream",
          "name": "stdout",
          "text": [
            "y1 = 5.00\n",
            "y2 = 4.67\n",
            "y3 = 5.67\n",
            "y4 = 6.67\n",
            "y5 = 9.67\n",
            "y6 = 28.67\n",
            "y7 = 49.33\n",
            "y8 = 72.67\n",
            "y9 = 84.00\n",
            "y10 = 93.33\n",
            "y11 = 116.33\n"
          ]
        }
      ]
    },
    {
      "cell_type": "code",
      "source": [
        ""
      ],
      "metadata": {
        "id": "CTB976_eDmau"
      },
      "execution_count": null,
      "outputs": []
    }
  ]
}